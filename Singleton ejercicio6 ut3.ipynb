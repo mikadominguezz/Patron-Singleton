{
 "cells": [
  {
   "cell_type": "code",
   "execution_count": null,
   "id": "afbfa6d1",
   "metadata": {
    "language_info": {
     "name": "polyglot-notebook"
    },
    "polyglot_notebook": {
     "kernelName": "csharp"
    }
   },
   "outputs": [],
   "source": [
    "public sealed class Singleton\n",
    "{\n",
    "    private Singleton() {}\n",
    "\n",
    "    private static Singleton instance;\n",
    "\n",
    "    public static Singleton GetInstance()\n",
    "    {\n",
    "        if(instance == null)\n",
    "        {\n",
    "            instance = new Singleton();\n",
    "        }\n",
    "        return instance;\n",
    "    }\n",
    "\n",
    "    public void Configuration()\n",
    "    {\n",
    "        //logica de configuracion   \n",
    "    }\n",
    "}"
   ]
  }
 ],
 "metadata": {
  "kernelspec": {
   "display_name": ".NET (C#)",
   "language": "C#",
   "name": ".net-csharp"
  },
  "language_info": {
   "name": "polyglot-notebook"
  },
  "polyglot_notebook": {
   "kernelInfo": {
    "defaultKernelName": "csharp",
    "items": [
     {
      "aliases": [],
      "name": "csharp"
     }
    ]
   }
  }
 },
 "nbformat": 4,
 "nbformat_minor": 5
}
